{
 "cells": [
  {
   "cell_type": "code",
   "execution_count": 1,
   "id": "0fc8b810",
   "metadata": {},
   "outputs": [
    {
     "name": "stdout",
     "output_type": "stream",
     "text": [
      "First Part, Linear Regression\n",
      "Second Part, Linear Regression Multivariable\n"
     ]
    }
   ],
   "source": [
    "from public_tests import *\n",
    "from utils import *\n",
    "from LinearRegression import LinearReg\n",
    "from LinearRegression import cost_test_obj\n",
    "from LinearRegression import compute_gradient_obj\n",
    "\n",
    "from LinearRegressionMulti import LinearRegMulti\n",
    "from LinearRegressionMulti import cost_test_multi_obj\n",
    "from LinearRegressionMulti import compute_gradient_multi_obj\n",
    "import pandas as pd\n",
    "import numpy as np\n",
    "\n",
    "from practica01 import *\n"
   ]
  },
  {
   "cell_type": "code",
   "execution_count": 2,
   "id": "9306bb64",
   "metadata": {},
   "outputs": [
    {
     "data": {
      "text/plain": [
       "(array([9.9, 9.8, 9.8, ..., 1.7, 1.6, 1.1]),\n",
       " array([9.1, 7.4, 7.6, ..., 4.3, 1.3, 2. ]))"
      ]
     },
     "metadata": {},
     "output_type": "display_data"
    }
   ],
   "source": [
    "\n",
    "# lo mismo que en practica 01 pero para visualizar\n",
    "#data = pd.read_csv('C:\\GITHUB\\AAMD\\Practica1\\Enunciado\\games_data.csv', usecols = ['score','user score'])\n",
    "\n",
    "# lee los datos y los limpia (EJERCICIO 1.1)\n",
    "x_data = load_data_csv('games_data.csv', 'score', 'user score')\n",
    "\n",
    "# hace cosas\n",
    "\n",
    "# display para debug\n",
    "display(x_data)"
   ]
  },
  {
   "cell_type": "code",
   "execution_count": 3,
   "id": "07c765dd",
   "metadata": {},
   "outputs": [],
   "source": [
    "def load_data_txt(path,x_colum,y_colum):\n",
    "    data = pd.read_csv(path)\n",
    "    X = data[x_colum].to_numpy()\n",
    "    y = data[y_colum].to_numpy()\n",
    "    return X, y"
   ]
  },
  {
   "cell_type": "code",
   "execution_count": 4,
   "id": "68aa4279",
   "metadata": {},
   "outputs": [
    {
     "data": {
      "text/plain": [
       "array([9.9, 9.8, 9.8, ..., 1.7, 1.6, 1.1])"
      ]
     },
     "metadata": {},
     "output_type": "display_data"
    },
    {
     "data": {
      "text/plain": [
       "array([9.1, 7.4, 7.6, ..., 4.3, 1.3, 2. ])"
      ]
     },
     "metadata": {},
     "output_type": "display_data"
    }
   ],
   "source": [
    "# EJERCICIO 1 PRUEBAS\n",
    "\n",
    "# lectura de los ficheros\n",
    "x_train, y_train = load_data_csv('games_data.csv', 'score', 'user score')\n",
    "\n",
    "# este no limpia porque esta bien y es un .txt no un csv, no tiene las columnas\n",
    "#x_train = pd.read_csv('C:\\GITHUB\\AAMD\\Practica1\\Enunciado\\ex1data1.txt')\n",
    "\n",
    "#x1 = x_train['score'].to_numpy()\n",
    "#x2 = x_train['user score'].to_numpy()\n",
    "\n",
    "#x_train = x1, x2\n",
    "\n",
    "#y_train = load_data_txt('C:\\GITHUB\\AAMD\\Practica1\\Enunciado\\ex1data1.txt', 'score', 'user score')\n",
    "\n",
    "x_train = np.array(x_train)\n",
    "\n",
    "# prueba de que se leen bien\n",
    "#display(y_train)\n",
    "display(x_train)\n",
    "display(y_train)"
   ]
  },
  {
   "cell_type": "code",
   "execution_count": 5,
   "id": "a7581b66",
   "metadata": {},
   "outputs": [
    {
     "name": "stdout",
     "output_type": "stream",
     "text": [
      "<class 'numpy.float64'>\n",
      "Cost at initial w (35.841): 35.841\n",
      "----Compute cost-------\n",
      "Testing: compute_cost_test\n",
      "Cost case 1\n",
      "Case 1 passed!\n",
      "Cost case 2\n",
      "Case 2 passed!\n",
      "Cost case 3\n",
      "Case 3 passed!\n",
      "Cost case 4\n",
      "Case 4 passed!\n",
      "Cost case 5\n",
      "Case 5 passed!\n",
      "\u001b[92mAll tests passed!\n",
      "Gradient at initial w, b (similar to)(-50.49855985112268 -6.988606075159124): -50.498559851122586 -6.988606075159082\n",
      "Gradient at initial w, b (similar to)(-38.700526233641476 -5.369312042261991): -38.7005262336415 -5.369312042261976\n",
      "----Compute gradient-------\n",
      "Testing: compute_gradient_test\n",
      "Using X with shape (4, 1)\n",
      "Case 1\n",
      "0.0 0.0\n",
      "Case 1 passed!\n",
      "Case 2\n",
      "Case 2 passed!\n",
      "\u001b[92mAll tests passed!\n",
      "---- Gradient descent--\n",
      "w,b found by gradient descent (0.8262848855238131 1.0746825556592443): 0.8262848855238131 1.0746825556592443\n",
      "for score 3.5, we predict user score of (3.97) 3.97\n",
      "3.96667965499259\n",
      "Case 1\n",
      "Case 1 passed!\n",
      "for score 7.9, we predict user score of (6.86) 6.86\n",
      "Case 2\n",
      "6.858676754325936\n",
      "Case 2 passed!\n",
      "\u001b[92mAll tests passed!\n"
     ]
    }
   ],
   "source": [
    "#probando los tests\n",
    "# hay que modificar los valores w y b para minimizar el coste de la funcion\n",
    "# pero cuando ejecuto, como da error, me pone que el coste siempre es el mismo\n",
    "# andtes era 69 y ahora es 21.cosas pero tio que no cambia con nada\n",
    "\n",
    "# este metodo ya prepara un w y una b asi que lo de arriba es realmente irrelevante\n",
    "# ! duda -> este metodo vv se puede modificar o como va la cosa\n",
    "test_cost_one(x_train, y_train)\n",
    "test_gradient_one(x_train, y_train)\n",
    "\n",
    "w,b = run_gradient_descent_one(x_train, y_train)\n",
    "test_gradient_descent_one(x_train, y_train,w,b)"
   ]
  },
  {
   "cell_type": "code",
   "execution_count": null,
   "id": "9b831c1d",
   "metadata": {},
   "outputs": [
    {
     "data": {
      "text/plain": [
       "array([[9.900e+00, 2.200e+01, 5.749e+03],\n",
       "       [9.800e+00, 1.900e+01, 6.470e+02],\n",
       "       [9.800e+00, 6.400e+01, 3.806e+03],\n",
       "       ...,\n",
       "       [1.700e+00, 7.000e+00, 1.290e+02],\n",
       "       [1.600e+00, 9.000e+00, 5.810e+02],\n",
       "       [1.100e+00, 8.000e+00, 1.510e+02]])"
      ]
     },
     "metadata": {},
     "output_type": "display_data"
    },
    {
     "data": {
      "text/plain": [
       "array([9.1, 7.4, 7.6, ..., 4.3, 1.3, 2. ])"
      ]
     },
     "metadata": {},
     "output_type": "display_data"
    },
    {
     "name": "stdout",
     "output_type": "stream",
     "text": [
      "ZScore\n"
     ]
    },
    {
     "data": {
      "text/plain": [
       "array([[-0.08109769, -0.06540216,  7.3633806 ],\n",
       "       [-0.0812274 , -0.06929361,  0.7453171 ],\n",
       "       [-0.0812274 , -0.01092183,  4.84301655],\n",
       "       ...,\n",
       "       [-0.09173432, -0.08485942,  0.07339298],\n",
       "       [-0.09186404, -0.08226512,  0.65970515],\n",
       "       [-0.09251261, -0.08356227,  0.1019303 ]])"
      ]
     },
     "metadata": {},
     "output_type": "display_data"
    },
    {
     "name": "stdout",
     "output_type": "stream",
     "text": [
      "Second Part, Linear Regression Multivariable\n"
     ]
    },
    {
     "ename": "ValueError",
     "evalue": "matmul: Input operand 1 does not have enough dimensions (has 0, gufunc core with signature (n?,k),(k,m?)->(n?,m?) requires 1)",
     "output_type": "error",
     "traceback": [
      "\u001b[1;31m---------------------------------------------------------------------------\u001b[0m",
      "\u001b[1;31mValueError\u001b[0m                                Traceback (most recent call last)",
      "Cell \u001b[1;32mIn[6], line 16\u001b[0m\n\u001b[0;32m     14\u001b[0m \u001b[38;5;28mprint\u001b[39m(\u001b[38;5;124m\"\u001b[39m\u001b[38;5;124mSecond Part, Linear Regression Multivariable\u001b[39m\u001b[38;5;124m\"\u001b[39m)\n\u001b[0;32m     15\u001b[0m \u001b[38;5;66;03m#TO-DO the main program.\u001b[39;00m\n\u001b[1;32m---> 16\u001b[0m test_cost_multi(x_train, y_train)\n",
      "File \u001b[1;32mc:\\GITHUB\\AAMD\\Practica1\\Enunciado\\practica01.py:94\u001b[0m, in \u001b[0;36mtest_cost_multi\u001b[1;34m(x_train, y_train)\u001b[0m\n\u001b[0;32m     92\u001b[0m _lambda \u001b[38;5;241m=\u001b[39m \u001b[38;5;241m0\u001b[39m\n\u001b[0;32m     93\u001b[0m lr \u001b[38;5;241m=\u001b[39m LinearRegMulti(x_train,y_train,initial_w,initial_b, _lambda)\n\u001b[1;32m---> 94\u001b[0m lrcost \u001b[38;5;241m=\u001b[39m lr\u001b[38;5;241m.\u001b[39mcompute_cost()\n\u001b[0;32m     95\u001b[0m \u001b[38;5;28mprint\u001b[39m(\u001b[38;5;124m\"\u001b[39m\u001b[38;5;124mllegaaaa\u001b[39m\u001b[38;5;124m\"\u001b[39m)\n\u001b[0;32m     96\u001b[0m \u001b[38;5;28mprint\u001b[39m(\u001b[38;5;28mtype\u001b[39m(lrcost))\n",
      "File \u001b[1;32mc:\\GITHUB\\AAMD\\Practica1\\Enunciado\\LinearRegression.py:44\u001b[0m, in \u001b[0;36mLinearReg.compute_cost\u001b[1;34m(self)\u001b[0m\n\u001b[0;32m     42\u001b[0m \u001b[38;5;28;01mdef\u001b[39;00m\u001b[38;5;250m \u001b[39m\u001b[38;5;21mcompute_cost\u001b[39m(\u001b[38;5;28mself\u001b[39m):\n\u001b[1;32m---> 44\u001b[0m     y_prima \u001b[38;5;241m=\u001b[39m \u001b[38;5;28mself\u001b[39m\u001b[38;5;241m.\u001b[39mf_w_b(\u001b[38;5;28mself\u001b[39m\u001b[38;5;241m.\u001b[39mx)\n\u001b[0;32m     46\u001b[0m     \u001b[38;5;66;03m# DUDA!!!! la media de la formula es de los datos reales? yo supongo que si\u001b[39;00m\n\u001b[0;32m     47\u001b[0m     \u001b[38;5;66;03m# pero no lo tengo muy claro\u001b[39;00m\n\u001b[0;32m     48\u001b[0m     aux \u001b[38;5;241m=\u001b[39m \u001b[38;5;28mself\u001b[39m\u001b[38;5;241m.\u001b[39my \u001b[38;5;241m-\u001b[39m y_prima\n",
      "File \u001b[1;32mc:\\GITHUB\\AAMD\\Practica1\\Enunciado\\LinearRegressionMulti.py:30\u001b[0m, in \u001b[0;36mLinearRegMulti.f_w_b\u001b[1;34m(self, x)\u001b[0m\n\u001b[0;32m     29\u001b[0m \u001b[38;5;28;01mdef\u001b[39;00m\u001b[38;5;250m \u001b[39m\u001b[38;5;21mf_w_b\u001b[39m(\u001b[38;5;28mself\u001b[39m, x):\n\u001b[1;32m---> 30\u001b[0m     ret \u001b[38;5;241m=\u001b[39m x \u001b[38;5;241m@\u001b[39m \u001b[38;5;28mself\u001b[39m\u001b[38;5;241m.\u001b[39mw \u001b[38;5;241m+\u001b[39m \u001b[38;5;28mself\u001b[39m\u001b[38;5;241m.\u001b[39mb\n\u001b[0;32m     31\u001b[0m     \u001b[38;5;28;01mreturn\u001b[39;00m ret\n",
      "\u001b[1;31mValueError\u001b[0m: matmul: Input operand 1 does not have enough dimensions (has 0, gufunc core with signature (n?,k),(k,m?)->(n?,m?) requires 1)"
     ]
    }
   ],
   "source": [
    "x_train, y_train = load_data_csv_multi('games_data.csv', 'score', 'critics', 'users', 'user score')\n",
    "\n",
    "display(x_train)\n",
    "display(y_train)\n",
    "\n",
    "print(\"ZScore\")\n",
    "\n",
    "X_norm, mu, sigma = zscore_normalize_features(x_train)\n",
    "\n",
    "display(X_norm)\n",
    "\n",
    "\n",
    "#Second Part, Linear Regression Multivariable\n",
    "print(\"Second Part, Linear Regression Multivariable\")\n",
    "#TO-DO the main program.\n",
    "test_cost_multi(X_norm, y_train)\n",
    "#test_gradient_multi(x_train, y_train)\n",
    "#test_gradient_descent_multi(x_train, y_train)"
   ]
  }
 ],
 "metadata": {
  "kernelspec": {
   "display_name": "base",
   "language": "python",
   "name": "python3"
  },
  "language_info": {
   "codemirror_mode": {
    "name": "ipython",
    "version": 3
   },
   "file_extension": ".py",
   "mimetype": "text/x-python",
   "name": "python",
   "nbconvert_exporter": "python",
   "pygments_lexer": "ipython3",
   "version": "3.13.5"
  }
 },
 "nbformat": 4,
 "nbformat_minor": 5
}
