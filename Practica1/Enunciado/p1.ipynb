{
 "cells": [
  {
   "cell_type": "code",
   "execution_count": 2,
   "id": "0fc8b810",
   "metadata": {},
   "outputs": [
    {
     "name": "stdout",
     "output_type": "stream",
     "text": [
      "First Part, Linear Regression\n",
      "Second Part, Linear Regression Multivariable\n"
     ]
    }
   ],
   "source": [
    "from public_tests import *\n",
    "from utils import *\n",
    "from LinearRegression import LinearReg\n",
    "from LinearRegression import cost_test_obj\n",
    "from LinearRegression import compute_gradient_obj\n",
    "\n",
    "from LinearRegressionMulti import LinearRegMulti\n",
    "from LinearRegressionMulti import cost_test_multi_obj\n",
    "from LinearRegressionMulti import compute_gradient_multi_obj\n",
    "import pandas as pd\n",
    "import numpy as np\n",
    "\n",
    "from practica01 import *\n"
   ]
  },
  {
   "cell_type": "code",
   "execution_count": 3,
   "id": "9306bb64",
   "metadata": {},
   "outputs": [
    {
     "data": {
      "text/plain": [
       "(array([99., 98., 98., ..., 17., 16., 11.], shape=(16658,)),\n",
       " array([91., 74., 76., ..., 43., 13., 20.], shape=(16658,)))"
      ]
     },
     "metadata": {},
     "output_type": "display_data"
    }
   ],
   "source": [
    "\n",
    "# lo mismo que en practica 01 pero para visualizar\n",
    "#data = pd.read_csv('C:\\GITHUB\\AAMD\\Practica1\\Enunciado\\games_data.csv', usecols = ['score','user score'])\n",
    "\n",
    "# lee los datos y los limpia (EJERCICIO 1.1)\n",
    "data = load_data_csv('C:\\GITHUB\\AAMD\\Practica1\\Enunciado\\games_data.csv', 'score', 'user score')\n",
    "\n",
    "# hace cosas\n",
    "\n",
    "# display para debug\n",
    "display(data)"
   ]
  },
  {
   "cell_type": "code",
   "execution_count": 20,
   "id": "07c765dd",
   "metadata": {},
   "outputs": [],
   "source": [
    "def load_data_txt(path,x_colum,y_colum):\n",
    "    data = pd.read_csv(path)\n",
    "    X = data[x_colum].to_numpy()\n",
    "    y = data[y_colum].to_numpy()\n",
    "    return X, y"
   ]
  },
  {
   "cell_type": "code",
   "execution_count": 21,
   "id": "68aa4279",
   "metadata": {},
   "outputs": [
    {
     "data": {
      "text/plain": [
       "(array([99., 98., 98., ..., 17., 16., 11.], shape=(16658,)),\n",
       " array([91., 74., 76., ..., 43., 13., 20.], shape=(16658,)))"
      ]
     },
     "metadata": {},
     "output_type": "display_data"
    },
    {
     "data": {
      "text/plain": [
       "(array([ 6.1101,  5.5277,  8.5186,  7.0032,  5.9598,  8.5829,  7.5764,\n",
       "         8.57  ,  6.4862,  5.0546,  5.7107, 14.164 ,  5.734 ,  8.4084,\n",
       "         5.6407,  5.3794,  6.3654,  5.1301,  6.4296,  7.0708,  6.1891,\n",
       "        20.27  ,  5.4901,  6.3261,  5.5649, 18.945 , 12.828 , 10.957 ,\n",
       "        13.176 , 22.203 ,  5.2524,  6.5894,  9.2482,  5.8918,  8.2111,\n",
       "         7.9334,  8.0959,  5.6063, 12.836 ,  6.3534,  5.4069,  6.8825,\n",
       "        11.708 ,  5.7737,  7.8247,  7.0931,  5.0702,  5.8014, 11.7   ,\n",
       "         5.5416,  7.5402,  5.3077,  7.4239,  7.6031,  6.3328,  6.3589,\n",
       "         6.2742,  5.6397,  9.3102,  9.4536,  8.8254,  5.1793, 21.279 ,\n",
       "        14.908 , 18.959 ,  7.2182,  8.2951, 10.236 ,  5.4994, 20.341 ,\n",
       "        10.136 ,  7.3345,  6.0062,  7.2259,  5.0269,  6.5479,  7.5386,\n",
       "         5.0365, 10.274 ,  5.1077,  5.7292,  5.1884,  6.3557,  9.7687,\n",
       "         6.5159,  8.5172,  9.1802,  6.002 ,  5.5504,  5.0594,  5.7077,\n",
       "         7.6366,  5.8777,  5.3054,  9.2934, 14.594 ,  5.0369]),\n",
       " array([17.092  , 10.1302 , 13.002  , 11.954  ,  6.9233 , 12.012  ,\n",
       "         4.9483 , 12.1    ,  6.5987 ,  3.8166 ,  3.2522 , 15.505  ,\n",
       "         3.1551 ,  7.2258 ,  0.71618,  3.5129 ,  5.3048 ,  0.56077,\n",
       "         3.6518 ,  5.3893 ,  3.1386 , 21.767  ,  4.263  ,  5.1875 ,\n",
       "         3.0825 , 22.638  , 13.501  ,  7.0467 , 14.692  , 24.147  ,\n",
       "        -1.22   ,  5.9966 , 12.134  ,  1.8495 ,  6.5426 ,  4.5623 ,\n",
       "         4.1164 ,  3.3928 , 10.117  ,  5.4974 ,  0.55657,  3.9115 ,\n",
       "         5.3854 ,  2.4406 ,  6.7318 ,  1.0463 ,  5.1337 ,  1.844  ,\n",
       "         8.0043 ,  1.0179 ,  6.7504 ,  1.8396 ,  4.2885 ,  4.9981 ,\n",
       "         1.4233 , -1.4211 ,  2.4756 ,  4.6042 ,  3.9624 ,  5.4141 ,\n",
       "         5.1694 , -0.74279, 17.929  , 12.054  , 17.054  ,  4.8852 ,\n",
       "         5.7442 ,  7.7754 ,  1.0173 , 20.992  ,  6.6799 ,  4.0259 ,\n",
       "         1.2784 ,  3.3411 , -2.6807 ,  0.29678,  3.8845 ,  5.7014 ,\n",
       "         6.7526 ,  2.0576 ,  0.47953,  0.20421,  0.67861,  7.5435 ,\n",
       "         5.3436 ,  4.2415 ,  6.7981 ,  0.92695,  0.252  ,  2.8214 ,\n",
       "         1.8451 ,  4.2959 ,  7.4029 ,  1.9869 ,  0.24454,  9.8551 ,\n",
       "         0.51705]))"
      ]
     },
     "metadata": {},
     "output_type": "display_data"
    }
   ],
   "source": [
    "# EJERCICIO 1 PRUEBAS\n",
    "\n",
    "# lectura de los ficheros\n",
    "y_train = load_data_csv('C:\\GITHUB\\AAMD\\Practica1\\Enunciado\\games_data.csv', 'score', 'user score')\n",
    "\n",
    "# este no limpia porque esta bien y es un .txt no un csv, no tiene las columnas\n",
    "#x_train = pd.read_csv('C:\\GITHUB\\AAMD\\Practica1\\Enunciado\\ex1data1.txt')\n",
    "\n",
    "#x1 = x_train['score'].to_numpy()\n",
    "#x2 = x_train['user score'].to_numpy()\n",
    "\n",
    "#x_train = x1, x2\n",
    "\n",
    "load_data_txt('C:\\GITHUB\\AAMD\\Practica1\\Enunciado\\ex1data1.txt', 'score', 'user score')\n",
    "\n",
    "# prueba de que se leen bien\n",
    "display(y_train)\n",
    "display(x_train)"
   ]
  },
  {
   "cell_type": "code",
   "execution_count": null,
   "id": "a7581b66",
   "metadata": {},
   "outputs": [
    {
     "ename": "TypeError",
     "evalue": "unsupported operand type(s) for -: 'tuple' and 'tuple'",
     "output_type": "error",
     "traceback": [
      "\u001b[1;31m---------------------------------------------------------------------------\u001b[0m",
      "\u001b[1;31mTypeError\u001b[0m                                 Traceback (most recent call last)",
      "Cell \u001b[1;32mIn[19], line 3\u001b[0m\n\u001b[0;32m      1\u001b[0m \u001b[38;5;66;03m#probando los tests\u001b[39;00m\n\u001b[1;32m----> 3\u001b[0m \u001b[43mtest_cost_one\u001b[49m\u001b[43m(\u001b[49m\u001b[43mx_train\u001b[49m\u001b[43m,\u001b[49m\u001b[43m \u001b[49m\u001b[43my_train\u001b[49m\u001b[43m)\u001b[49m\n\u001b[0;32m      4\u001b[0m \u001b[38;5;66;03m#test_gradient_one(x_train, y_train)\u001b[39;00m\n\u001b[0;32m      5\u001b[0m \u001b[38;5;66;03m#test_gradient_descent_one(x_train, y_train,w,b)\u001b[39;00m\n",
      "File \u001b[1;32mc:\\GITHUB\\AAMD\\Practica1\\Enunciado\\practica01.py:43\u001b[0m, in \u001b[0;36mtest_cost_one\u001b[1;34m(x_train, y_train)\u001b[0m\n\u001b[0;32m     39\u001b[0m initial_b \u001b[38;5;241m=\u001b[39m \u001b[38;5;241m1\u001b[39m\n\u001b[0;32m     42\u001b[0m lr \u001b[38;5;241m=\u001b[39m LinearReg(x_train,y_train,initial_w,initial_b)\n\u001b[1;32m---> 43\u001b[0m lrcost \u001b[38;5;241m=\u001b[39m \u001b[43mlr\u001b[49m\u001b[38;5;241;43m.\u001b[39;49m\u001b[43mcompute_cost\u001b[49m\u001b[43m(\u001b[49m\u001b[43m)\u001b[49m\n\u001b[0;32m     44\u001b[0m \u001b[38;5;28mprint\u001b[39m(\u001b[38;5;28mtype\u001b[39m(lrcost))\n\u001b[0;32m     45\u001b[0m \u001b[38;5;28mprint\u001b[39m(\u001b[38;5;124mf\u001b[39m\u001b[38;5;124m'\u001b[39m\u001b[38;5;124mCost at initial w (35.841): \u001b[39m\u001b[38;5;132;01m{\u001b[39;00mlrcost\u001b[38;5;132;01m:\u001b[39;00m\u001b[38;5;124m.3f\u001b[39m\u001b[38;5;132;01m}\u001b[39;00m\u001b[38;5;124m'\u001b[39m)\n",
      "File \u001b[1;32mc:\\GITHUB\\AAMD\\Practica1\\Enunciado\\LinearRegression.py:44\u001b[0m, in \u001b[0;36mLinearReg.compute_cost\u001b[1;34m(self)\u001b[0m\n\u001b[0;32m     41\u001b[0m \u001b[38;5;28;01mdef\u001b[39;00m\u001b[38;5;250m \u001b[39m\u001b[38;5;21mcompute_cost\u001b[39m(\u001b[38;5;28mself\u001b[39m):\n\u001b[0;32m     42\u001b[0m     \u001b[38;5;66;03m# DUDA!!!! la media de la formula es de los datos reales? yo supongo que si\u001b[39;00m\n\u001b[0;32m     43\u001b[0m     \u001b[38;5;66;03m# pero no lo tengo muy claro\u001b[39;00m\n\u001b[1;32m---> 44\u001b[0m     sumatorio \u001b[38;5;241m=\u001b[39m np\u001b[38;5;241m.\u001b[39msum(np\u001b[38;5;241m.\u001b[39msquare(\u001b[38;5;28mself\u001b[39m\u001b[38;5;241m.\u001b[39my \u001b[38;5;241m-\u001b[39m \u001b[38;5;28mself\u001b[39m\u001b[38;5;241m.\u001b[39mx))\n\u001b[0;32m     45\u001b[0m     cost \u001b[38;5;241m=\u001b[39m (\u001b[38;5;241m1\u001b[39m\u001b[38;5;241m/\u001b[39m(np\u001b[38;5;241m.\u001b[39mlen(\u001b[38;5;28mself\u001b[39m\u001b[38;5;241m.\u001b[39my)))\u001b[38;5;241m*\u001b[39msumatorio\n\u001b[0;32m     46\u001b[0m     \u001b[38;5;28;01mreturn\u001b[39;00m cost\n",
      "\u001b[1;31mTypeError\u001b[0m: unsupported operand type(s) for -: 'tuple' and 'tuple'"
     ]
    }
   ],
   "source": [
    "#probando los tests\n",
    "\n",
    "#test_cost_one(x_train, y_train)\n",
    "#test_gradient_one(x_train, y_train)\n",
    "#test_gradient_descent_one(x_train, y_train,w,b)"
   ]
  }
 ],
 "metadata": {
  "kernelspec": {
   "display_name": "Python 3",
   "language": "python",
   "name": "python3"
  },
  "language_info": {
   "codemirror_mode": {
    "name": "ipython",
    "version": 3
   },
   "file_extension": ".py",
   "mimetype": "text/x-python",
   "name": "python",
   "nbconvert_exporter": "python",
   "pygments_lexer": "ipython3",
   "version": "3.11.9"
  }
 },
 "nbformat": 4,
 "nbformat_minor": 5
}
