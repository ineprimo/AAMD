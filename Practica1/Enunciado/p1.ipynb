{
 "cells": [
  {
   "cell_type": "code",
   "execution_count": null,
   "id": "0fc8b810",
   "metadata": {},
   "outputs": [],
   "source": [
    "from public_tests import *\n",
    "from utils import *\n",
    "from LinearRegression import LinearReg\n",
    "from LinearRegression import cost_test_obj\n",
    "from LinearRegression import compute_gradient_obj\n",
    "\n",
    "from LinearRegressionMulti import LinearRegMulti\n",
    "from LinearRegressionMulti import cost_test_multi_obj\n",
    "from LinearRegressionMulti import compute_gradient_multi_obj\n",
    "import pandas as pd\n",
    "import numpy as np\n"
   ]
  },
  {
   "cell_type": "code",
   "execution_count": null,
   "id": "9306bb64",
   "metadata": {},
   "outputs": [
    {
     "data": {
      "text/plain": [
       "(array([99., 98., 98., ..., 17., 16., 11.], shape=(16658,)),\n",
       " array([9.1, 7.4, 7.6, ..., 4.3, 1.3, 2. ], shape=(16658,)))"
      ]
     },
     "metadata": {},
     "output_type": "display_data"
    }
   ],
   "source": [
    "\n",
    "# lo mismo que en practica 01 pero para visualizar\n",
    "#data = pd.read_csv('C:\\GITHUB\\AAMD\\Practica1\\Enunciado\\games_data.csv', usecols = ['score','user score'])\n",
    "\n",
    "data = load_data_csv('C:\\GITHUB\\AAMD\\Practica1\\Enunciado\\games_data.csv', 'score', 'user score')\n",
    "\n",
    "#limpia los datos\n",
    "#cleanData(data)\n",
    "normalized = zscore_normalize_features(data)\n",
    "\n",
    "#\n",
    "display(data)\n",
    "display(normalized)"
   ]
  }
 ],
 "metadata": {
  "kernelspec": {
   "display_name": "Python 3",
   "language": "python",
   "name": "python3"
  },
  "language_info": {
   "codemirror_mode": {
    "name": "ipython",
    "version": 3
   },
   "file_extension": ".py",
   "mimetype": "text/x-python",
   "name": "python",
   "nbconvert_exporter": "python",
   "pygments_lexer": "ipython3",
   "version": "3.11.9"
  }
 },
 "nbformat": 4,
 "nbformat_minor": 5
}
