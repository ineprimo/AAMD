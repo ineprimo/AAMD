{
 "cells": [
  {
   "cell_type": "code",
   "execution_count": 6,
   "id": "0fc8b810",
   "metadata": {},
   "outputs": [],
   "source": [
    "from public_tests import *\n",
    "from utils import *\n",
    "from LinearRegression import LinearReg\n",
    "from LinearRegression import cost_test_obj\n",
    "from LinearRegression import compute_gradient_obj\n",
    "\n",
    "from LinearRegressionMulti import LinearRegMulti\n",
    "from LinearRegressionMulti import cost_test_multi_obj\n",
    "from LinearRegressionMulti import compute_gradient_multi_obj\n",
    "import pandas as pd\n",
    "import numpy as np\n",
    "\n",
    "from practica01 import *\n"
   ]
  },
  {
   "cell_type": "code",
   "execution_count": 7,
   "id": "9306bb64",
   "metadata": {},
   "outputs": [
    {
     "data": {
      "text/plain": [
       "(array([99., 98., 98., ..., 17., 16., 11.], shape=(16658,)),\n",
       " array([91., 74., 76., ..., 43., 13., 20.], shape=(16658,)))"
      ]
     },
     "metadata": {},
     "output_type": "display_data"
    }
   ],
   "source": [
    "\n",
    "# lo mismo que en practica 01 pero para visualizar\n",
    "#data = pd.read_csv('C:\\GITHUB\\AAMD\\Practica1\\Enunciado\\games_data.csv', usecols = ['score','user score'])\n",
    "\n",
    "# lee los datos y los limpia (EJERCICIO 1.1)\n",
    "x_data = load_data_csv('C:\\GITHUB\\AAMD\\Practica1\\Enunciado\\games_data.csv', 'score', 'user score')\n",
    "\n",
    "# hace cosas\n",
    "\n",
    "# display para debug\n",
    "display(x_data)"
   ]
  },
  {
   "cell_type": "code",
   "execution_count": 8,
   "id": "07c765dd",
   "metadata": {},
   "outputs": [],
   "source": [
    "def load_data_txt(path,x_colum,y_colum):\n",
    "    data = pd.read_csv(path)\n",
    "    X = data[x_colum].to_numpy()\n",
    "    y = data[y_colum].to_numpy()\n",
    "    return X, y"
   ]
  },
  {
   "cell_type": "code",
   "execution_count": 9,
   "id": "68aa4279",
   "metadata": {},
   "outputs": [
    {
     "data": {
      "text/plain": [
       "array([[99., 98., 98., ..., 17., 16., 11.],\n",
       "       [91., 74., 76., ..., 43., 13., 20.]], shape=(2, 16658))"
      ]
     },
     "metadata": {},
     "output_type": "display_data"
    }
   ],
   "source": [
    "# EJERCICIO 1 PRUEBAS\n",
    "\n",
    "# lectura de los ficheros\n",
    "x_train = load_data_csv('C:\\GITHUB\\AAMD\\Practica1\\Enunciado\\games_data.csv', 'score', 'user score')\n",
    "\n",
    "# este no limpia porque esta bien y es un .txt no un csv, no tiene las columnas\n",
    "#x_train = pd.read_csv('C:\\GITHUB\\AAMD\\Practica1\\Enunciado\\ex1data1.txt')\n",
    "\n",
    "#x1 = x_train['score'].to_numpy()\n",
    "#x2 = x_train['user score'].to_numpy()\n",
    "\n",
    "#x_train = x1, x2\n",
    "\n",
    "#y_train = load_data_txt('C:\\GITHUB\\AAMD\\Practica1\\Enunciado\\ex1data1.txt', 'score', 'user score')\n",
    "\n",
    "x_train = np.array(x_train)\n",
    "\n",
    "# prueba de que se leen bien\n",
    "#display(y_train)\n",
    "display(x_train)"
   ]
  },
  {
   "cell_type": "code",
   "execution_count": null,
   "id": "a7581b66",
   "metadata": {},
   "outputs": [
    {
     "name": "stdout",
     "output_type": "stream",
     "text": [
      "Gradient at initial w, b (similar to)(-50.49855985112268 -6.988606075159124): (array([[-inf, -inf, -inf, ...,  inf, -inf,  inf],\n",
      "       [-inf, -inf, -inf, ...,  inf, -inf,  inf]], shape=(2, 16658)), array([[-inf, -inf,  nan, ..., -inf, -inf, -inf],\n",
      "       [-inf, -inf,  inf, ..., -inf, -inf,  inf]], shape=(2, 16658))) (array([[-inf, -inf, -inf, ...,  inf, -inf,  inf],\n",
      "       [-inf, -inf, -inf, ...,  inf, -inf,  inf]], shape=(2, 16658)), array([[-inf, -inf,  nan, ..., -inf, -inf, -inf],\n",
      "       [-inf, -inf,  inf, ..., -inf, -inf,  inf]], shape=(2, 16658)))\n",
      "Gradient at initial w, b (similar to)(-38.700526233641476 -5.369312042261991): (array([[ -40., -120., -110., ...,  130.,  -15.,   45.],\n",
      "       [ -40., -120., -110., ...,  130.,  -15.,   45.]], shape=(2, 16658)), array([[ -5. ,  -2.5,   0. , ...,  -2.5, -15. , -25. ],\n",
      "       [-85. , -37.5,  27.5, ..., -15. , -57.5,  35. ]], shape=(2, 16658))) (array([[ -40., -120., -110., ...,  130.,  -15.,   45.],\n",
      "       [ -40., -120., -110., ...,  130.,  -15.,   45.]], shape=(2, 16658)), array([[ -5. ,  -2.5,   0. , ...,  -2.5, -15. , -25. ],\n",
      "       [-85. , -37.5,  27.5, ..., -15. , -57.5,  35. ]], shape=(2, 16658)))\n",
      "----Compute gradient-------\n",
      "Testing: compute_gradient_test\n",
      "Using X with shape (4, 1)\n",
      "Case 1\n",
      "[1. 1. 1. 1.] [4. 4. 4. 4.]\n"
     ]
    },
    {
     "name": "stderr",
     "output_type": "stream",
     "text": [
      "C:\\Users\\ineso\\AppData\\Local\\Packages\\PythonSoftwareFoundation.Python.3.11_qbz5n2kfra8p0\\LocalCache\\local-packages\\Python311\\site-packages\\numpy\\lib\\_function_base_impl.py:1307: RuntimeWarning: divide by zero encountered in divide\n",
      "  out[tuple(slice1)] = (f[tuple(slice2)] - f[tuple(slice3)]) / dx_0\n",
      "C:\\Users\\ineso\\AppData\\Local\\Packages\\PythonSoftwareFoundation.Python.3.11_qbz5n2kfra8p0\\LocalCache\\local-packages\\Python311\\site-packages\\numpy\\lib\\_function_base_impl.py:1307: RuntimeWarning: invalid value encountered in divide\n",
      "  out[tuple(slice1)] = (f[tuple(slice2)] - f[tuple(slice3)]) / dx_0\n",
      "C:\\Users\\ineso\\AppData\\Local\\Packages\\PythonSoftwareFoundation.Python.3.11_qbz5n2kfra8p0\\LocalCache\\local-packages\\Python311\\site-packages\\numpy\\lib\\_function_base_impl.py:1314: RuntimeWarning: divide by zero encountered in divide\n",
      "  out[tuple(slice1)] = (f[tuple(slice2)] - f[tuple(slice3)]) / dx_n\n",
      "C:\\Users\\ineso\\AppData\\Local\\Packages\\PythonSoftwareFoundation.Python.3.11_qbz5n2kfra8p0\\LocalCache\\local-packages\\Python311\\site-packages\\numpy\\lib\\_function_base_impl.py:1314: RuntimeWarning: invalid value encountered in divide\n",
      "  out[tuple(slice1)] = (f[tuple(slice2)] - f[tuple(slice3)]) / dx_n\n",
      "C:\\Users\\ineso\\AppData\\Local\\Packages\\PythonSoftwareFoundation.Python.3.11_qbz5n2kfra8p0\\LocalCache\\local-packages\\Python311\\site-packages\\numpy\\lib\\_function_base_impl.py:1286: RuntimeWarning: divide by zero encountered in divide\n",
      "  out[tuple(slice1)] = (f[tuple(slice4)] - f[tuple(slice2)]) / (2. * ax_dx)\n",
      "C:\\Users\\ineso\\AppData\\Local\\Packages\\PythonSoftwareFoundation.Python.3.11_qbz5n2kfra8p0\\LocalCache\\local-packages\\Python311\\site-packages\\numpy\\lib\\_function_base_impl.py:1286: RuntimeWarning: invalid value encountered in divide\n",
      "  out[tuple(slice1)] = (f[tuple(slice4)] - f[tuple(slice2)]) / (2. * ax_dx)\n"
     ]
    },
    {
     "ename": "ValueError",
     "evalue": "The truth value of an array with more than one element is ambiguous. Use a.any() or a.all()",
     "output_type": "error",
     "traceback": [
      "\u001b[1;31m---------------------------------------------------------------------------\u001b[0m",
      "\u001b[1;31mValueError\u001b[0m                                Traceback (most recent call last)",
      "Cell \u001b[1;32mIn[10], line 7\u001b[0m\n\u001b[0;32m      4\u001b[0m lr\u001b[38;5;241m.\u001b[39my \u001b[38;5;241m=\u001b[39m y_train\n\u001b[0;32m      6\u001b[0m \u001b[38;5;66;03m#test_cost_one(x_train, y_train)\u001b[39;00m\n\u001b[1;32m----> 7\u001b[0m \u001b[43mtest_gradient_one\u001b[49m\u001b[43m(\u001b[49m\u001b[43mx_train\u001b[49m\u001b[43m,\u001b[49m\u001b[43m \u001b[49m\u001b[43my_train\u001b[49m\u001b[43m)\u001b[49m\n\u001b[0;32m      8\u001b[0m \u001b[38;5;66;03m#test_gradient_descent_one(x_train, y_train,w,b)\u001b[39;00m\n",
      "File \u001b[1;32mc:\\GITHUB\\AAMD\\Practica1\\Enunciado\\practica01.py:34\u001b[0m, in \u001b[0;36mtest_gradient_one\u001b[1;34m(x_train, y_train)\u001b[0m\n\u001b[0;32m     30\u001b[0m \u001b[38;5;28mprint\u001b[39m(\u001b[38;5;124m'\u001b[39m\u001b[38;5;124mGradient at initial w, b (similar to)(-38.700526233641476 -5.369312042261991):\u001b[39m\u001b[38;5;124m'\u001b[39m,\n\u001b[0;32m     31\u001b[0m       lr_tmp_dj_dw, lr_tmp_dj_db)\n\u001b[0;32m     33\u001b[0m \u001b[38;5;28mprint\u001b[39m(\u001b[38;5;124m\"\u001b[39m\u001b[38;5;124m----Compute gradient-------\u001b[39m\u001b[38;5;124m\"\u001b[39m)\n\u001b[1;32m---> 34\u001b[0m \u001b[43mcompute_gradient_test_one\u001b[49m\u001b[43m(\u001b[49m\u001b[43mcompute_gradient_obj\u001b[49m\u001b[43m)\u001b[49m\n",
      "File \u001b[1;32mc:\\GITHUB\\AAMD\\Practica1\\Enunciado\\public_tests.py:61\u001b[0m, in \u001b[0;36mcompute_gradient_test_one\u001b[1;34m(target)\u001b[0m\n\u001b[0;32m     59\u001b[0m \u001b[38;5;28mprint\u001b[39m(dj_dw,dj_db)\n\u001b[0;32m     60\u001b[0m \u001b[38;5;66;03m#assert dj_dw.shape == initial_w.shape, f\"Wrong shape for dj_dw. {dj_dw} != {initial_w.shape}\"\u001b[39;00m\n\u001b[1;32m---> 61\u001b[0m \u001b[38;5;28;01massert\u001b[39;00m dj_db \u001b[38;5;241m==\u001b[39m \u001b[38;5;241m0.0\u001b[39m, \u001b[38;5;124mf\u001b[39m\u001b[38;5;124m\"\u001b[39m\u001b[38;5;124mCase 1: dj_db is wrong: \u001b[39m\u001b[38;5;132;01m{\u001b[39;00mdj_db\u001b[38;5;132;01m}\u001b[39;00m\u001b[38;5;124m != 0.0\u001b[39m\u001b[38;5;124m\"\u001b[39m\n\u001b[0;32m     62\u001b[0m \u001b[38;5;28;01massert\u001b[39;00m np\u001b[38;5;241m.\u001b[39mallclose(dj_dw, \u001b[38;5;241m0\u001b[39m), \u001b[38;5;124mf\u001b[39m\u001b[38;5;124m\"\u001b[39m\u001b[38;5;124mCase 1: dj_dw is wrong: \u001b[39m\u001b[38;5;132;01m{\u001b[39;00mdj_dw\u001b[38;5;132;01m}\u001b[39;00m\u001b[38;5;124m != [[0.0]]\u001b[39m\u001b[38;5;124m\"\u001b[39m\n\u001b[0;32m     63\u001b[0m \u001b[38;5;28mprint\u001b[39m(\u001b[38;5;124m\"\u001b[39m\u001b[38;5;124mCase 1 passed!\u001b[39m\u001b[38;5;124m\"\u001b[39m)\n",
      "\u001b[1;31mValueError\u001b[0m: The truth value of an array with more than one element is ambiguous. Use a.any() or a.all()"
     ]
    }
   ],
   "source": [
    "#probando los tests\n",
    "lr = LinearReg(x_train, x_train, 1, 2)\n",
    "y_train = lr.f_w_b(x_train)\n",
    "lr.y = y_train\n",
    "\n",
    "test_cost_one(x_train, y_train)\n",
    "#test_gradient_one(x_train, y_train)\n",
    "#test_gradient_descent_one(x_train, y_train,w,b)"
   ]
  }
 ],
 "metadata": {
  "kernelspec": {
   "display_name": "Python 3",
   "language": "python",
   "name": "python3"
  },
  "language_info": {
   "codemirror_mode": {
    "name": "ipython",
    "version": 3
   },
   "file_extension": ".py",
   "mimetype": "text/x-python",
   "name": "python",
   "nbconvert_exporter": "python",
   "pygments_lexer": "ipython3",
   "version": "3.11.9"
  }
 },
 "nbformat": 4,
 "nbformat_minor": 5
}
