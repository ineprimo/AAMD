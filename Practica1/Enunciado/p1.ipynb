{
 "cells": [
  {
   "cell_type": "code",
   "execution_count": 1,
   "id": "0fc8b810",
   "metadata": {},
   "outputs": [
    {
     "name": "stdout",
     "output_type": "stream",
     "text": [
      "First Part, Linear Regression\n",
      "Second Part, Linear Regression Multivariable\n"
     ]
    }
   ],
   "source": [
    "from public_tests import *\n",
    "from utils import *\n",
    "from LinearRegression import LinearReg\n",
    "from LinearRegression import cost_test_obj\n",
    "from LinearRegression import compute_gradient_obj\n",
    "\n",
    "from LinearRegressionMulti import LinearRegMulti\n",
    "from LinearRegressionMulti import cost_test_multi_obj\n",
    "from LinearRegressionMulti import compute_gradient_multi_obj\n",
    "import pandas as pd\n",
    "import numpy as np\n",
    "\n",
    "from practica01 import *\n"
   ]
  },
  {
   "cell_type": "code",
   "execution_count": 2,
   "id": "9306bb64",
   "metadata": {},
   "outputs": [
    {
     "data": {
      "text/plain": [
       "(array([99., 98., 98., ..., 17., 16., 11.], shape=(16658,)),\n",
       " array([91., 74., 76., ..., 43., 13., 20.], shape=(16658,)))"
      ]
     },
     "metadata": {},
     "output_type": "display_data"
    }
   ],
   "source": [
    "\n",
    "# lo mismo que en practica 01 pero para visualizar\n",
    "#data = pd.read_csv('C:\\GITHUB\\AAMD\\Practica1\\Enunciado\\games_data.csv', usecols = ['score','user score'])\n",
    "\n",
    "# lee los datos y los limpia (EJERCICIO 1.1)\n",
    "x_data = load_data_csv('C:\\GITHUB\\AAMD\\Practica1\\Enunciado\\games_data.csv', 'score', 'user score')\n",
    "\n",
    "# hace cosas\n",
    "\n",
    "# display para debug\n",
    "display(x_data)"
   ]
  },
  {
   "cell_type": "code",
   "execution_count": 3,
   "id": "07c765dd",
   "metadata": {},
   "outputs": [],
   "source": [
    "def load_data_txt(path,x_colum,y_colum):\n",
    "    data = pd.read_csv(path)\n",
    "    X = data[x_colum].to_numpy()\n",
    "    y = data[y_colum].to_numpy()\n",
    "    return X, y"
   ]
  },
  {
   "cell_type": "code",
   "execution_count": 4,
   "id": "68aa4279",
   "metadata": {},
   "outputs": [
    {
     "data": {
      "text/plain": [
       "array([[99., 98., 98., ..., 17., 16., 11.],\n",
       "       [91., 74., 76., ..., 43., 13., 20.]], shape=(2, 16658))"
      ]
     },
     "metadata": {},
     "output_type": "display_data"
    }
   ],
   "source": [
    "# EJERCICIO 1 PRUEBAS\n",
    "\n",
    "# lectura de los ficheros\n",
    "x_train = load_data_csv('C:\\GITHUB\\AAMD\\Practica1\\Enunciado\\games_data.csv', 'score', 'user score')\n",
    "\n",
    "# este no limpia porque esta bien y es un .txt no un csv, no tiene las columnas\n",
    "#x_train = pd.read_csv('C:\\GITHUB\\AAMD\\Practica1\\Enunciado\\ex1data1.txt')\n",
    "\n",
    "#x1 = x_train['score'].to_numpy()\n",
    "#x2 = x_train['user score'].to_numpy()\n",
    "\n",
    "#x_train = x1, x2\n",
    "\n",
    "#y_train = load_data_txt('C:\\GITHUB\\AAMD\\Practica1\\Enunciado\\ex1data1.txt', 'score', 'user score')\n",
    "\n",
    "x_train = np.array(x_train)\n",
    "\n",
    "# prueba de que se leen bien\n",
    "#display(y_train)\n",
    "display(x_train)"
   ]
  },
  {
   "cell_type": "code",
   "execution_count": null,
   "id": "a7581b66",
   "metadata": {},
   "outputs": [
    {
     "name": "stdout",
     "output_type": "stream",
     "text": [
      "<class 'numpy.float64'>\n",
      "Cost at initial w (35.841): -33514904.573\n",
      "----Compute cost-------\n",
      "Testing: compute_cost_test\n",
      "Cost case 1\n"
     ]
    },
    {
     "ename": "AssertionError",
     "evalue": "Case 1: Cost must be 0 for a perfect prediction but got 21.230769230769234",
     "output_type": "error",
     "traceback": [
      "\u001b[1;31m---------------------------------------------------------------------------\u001b[0m",
      "\u001b[1;31mAssertionError\u001b[0m                            Traceback (most recent call last)",
      "Cell \u001b[1;32mIn[38], line 9\u001b[0m\n\u001b[0;32m      6\u001b[0m y_train \u001b[38;5;241m=\u001b[39m lr\u001b[38;5;241m.\u001b[39mf_w_b(x_train)\n\u001b[0;32m      7\u001b[0m lr\u001b[38;5;241m.\u001b[39my \u001b[38;5;241m=\u001b[39m y_train\n\u001b[1;32m----> 9\u001b[0m \u001b[43mtest_cost_one\u001b[49m\u001b[43m(\u001b[49m\u001b[43mx_train\u001b[49m\u001b[43m,\u001b[49m\u001b[43m \u001b[49m\u001b[43my_train\u001b[49m\u001b[43m)\u001b[49m\n\u001b[0;32m     10\u001b[0m \u001b[38;5;66;03m#test_gradient_one(x_train, y_train)\u001b[39;00m\n\u001b[0;32m     11\u001b[0m \u001b[38;5;66;03m#test_gradient_descent_one(x_train, y_train,w,b)\u001b[39;00m\n",
      "File \u001b[1;32mc:\\GITHUB\\AAMD\\Practica1\\Enunciado\\practica01.py:47\u001b[0m, in \u001b[0;36mtest_cost_one\u001b[1;34m(x_train, y_train)\u001b[0m\n\u001b[0;32m     45\u001b[0m \u001b[38;5;28mprint\u001b[39m(\u001b[38;5;124mf\u001b[39m\u001b[38;5;124m'\u001b[39m\u001b[38;5;124mCost at initial w (35.841): \u001b[39m\u001b[38;5;132;01m{\u001b[39;00mlrcost\u001b[38;5;132;01m:\u001b[39;00m\u001b[38;5;124m.3f\u001b[39m\u001b[38;5;132;01m}\u001b[39;00m\u001b[38;5;124m'\u001b[39m)\n\u001b[0;32m     46\u001b[0m \u001b[38;5;28mprint\u001b[39m(\u001b[38;5;124m\"\u001b[39m\u001b[38;5;124m----Compute cost-------\u001b[39m\u001b[38;5;124m\"\u001b[39m)\n\u001b[1;32m---> 47\u001b[0m \u001b[43mcompute_cost_test_one\u001b[49m\u001b[43m(\u001b[49m\u001b[43mcost_test_obj\u001b[49m\u001b[43m)\u001b[49m\n",
      "File \u001b[1;32mc:\\GITHUB\\AAMD\\Practica1\\Enunciado\\public_tests.py:13\u001b[0m, in \u001b[0;36mcompute_cost_test_one\u001b[1;34m(target)\u001b[0m\n\u001b[0;32m     11\u001b[0m cost \u001b[38;5;241m=\u001b[39m target(x, y, initial_w, initial_b)\n\u001b[0;32m     12\u001b[0m \u001b[38;5;28mprint\u001b[39m(\u001b[38;5;124m\"\u001b[39m\u001b[38;5;124mCost case 1\u001b[39m\u001b[38;5;124m\"\u001b[39m)\n\u001b[1;32m---> 13\u001b[0m \u001b[38;5;28;01massert\u001b[39;00m cost \u001b[38;5;241m==\u001b[39m \u001b[38;5;241m0\u001b[39m, \u001b[38;5;124mf\u001b[39m\u001b[38;5;124m\"\u001b[39m\u001b[38;5;124mCase 1: Cost must be 0 for a perfect prediction but got \u001b[39m\u001b[38;5;132;01m{\u001b[39;00mcost\u001b[38;5;132;01m}\u001b[39;00m\u001b[38;5;124m\"\u001b[39m\n\u001b[0;32m     14\u001b[0m \u001b[38;5;28mprint\u001b[39m(\u001b[38;5;124m\"\u001b[39m\u001b[38;5;124mCase 1 passed!\u001b[39m\u001b[38;5;124m\"\u001b[39m)\n\u001b[0;32m     15\u001b[0m \u001b[38;5;66;03m# Case 2\u001b[39;00m\n",
      "\u001b[1;31mAssertionError\u001b[0m: Case 1: Cost must be 0 for a perfect prediction but got 21.230769230769234"
     ]
    }
   ],
   "source": [
    "#probando los tests\n",
    "# hay que modificar los valores w y b para minimizar el coste de la funcion\n",
    "# pero cuando ejecuto, como da error, me pone que el coste siempre es el mismo\n",
    "# andtes era 69 y ahora es 21.cosas pero tio que no cambia con nada\n",
    "lr = LinearReg(x_train, x_train, 1, 0.0005)\n",
    "y_train = lr.f_w_b(x_train)\n",
    "lr.y = y_train\n",
    "\n",
    "test_cost_one(x_train, y_train)\n",
    "#test_gradient_one(x_train, y_train)\n",
    "#test_gradient_descent_one(x_train, y_train,w,b)"
   ]
  }
 ],
 "metadata": {
  "kernelspec": {
   "display_name": "Python 3",
   "language": "python",
   "name": "python3"
  },
  "language_info": {
   "codemirror_mode": {
    "name": "ipython",
    "version": 3
   },
   "file_extension": ".py",
   "mimetype": "text/x-python",
   "name": "python",
   "nbconvert_exporter": "python",
   "pygments_lexer": "ipython3",
   "version": "3.11.9"
  }
 },
 "nbformat": 4,
 "nbformat_minor": 5
}
